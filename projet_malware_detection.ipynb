{
  "nbformat": 4,
  "nbformat_minor": 0,
  "metadata": {
    "kernelspec": {
      "display_name": "Python 3",
      "language": "python",
      "name": "python3"
    },
    "language_info": {
      "codemirror_mode": {
        "name": "ipython",
        "version": 3
      },
      "file_extension": ".py",
      "mimetype": "text/x-python",
      "name": "python",
      "nbconvert_exporter": "python",
      "pygments_lexer": "ipython3",
      "version": "3.7.3"
    },
    "colab": {
      "name": "projet_malware_detection.ipynb",
      "provenance": [],
      "collapsed_sections": [],
      "include_colab_link": true
    }
  },
  "cells": [
    {
      "cell_type": "markdown",
      "metadata": {
        "id": "view-in-github",
        "colab_type": "text"
      },
      "source": [
        "<a href=\"https://colab.research.google.com/github/securitylab-repository/TPS-IA/blob/master/projet_malware_detection.ipynb\" target=\"_parent\"><img src=\"https://colab.research.google.com/assets/colab-badge.svg\" alt=\"Open In Colab\"/></a>"
      ]
    },
    {
      "cell_type": "markdown",
      "metadata": {
        "id": "BbVimN2AC0Xg",
        "colab_type": "text"
      },
      "source": [
        "# ***Projet classification de malwares***\n",
        "\n",
        "**L' ojectif de ce projet est de construire un anti-malware basé sur l'entrainement d'un algorithme de machine learning (IA) avec des données issues d'exécutables associés à de vrais malwares et d'exécutables sains. Cette approche est une alternative à l'approche traditionnelle basée sur les signatures. Son avantage est de permettre la détection de malwares inconnus (zero-day malwares).**\n",
        "\n",
        "# ***Travail à faire***\n",
        "\n",
        "> Vous devez vous constituer en groupes de 4 élèves. \n",
        "> La dernière séance sera réservée pour les soutenances \n",
        "\n",
        "## ***Partie 1***\n",
        "\n",
        "> En utilisant  l'approche vue lors du TP3:\n",
        "> -  Lire les données de ce [dataset](https://raw.githubusercontent.com/securitylab-repository/malware_classification/master/datasets/malware-detection/malwaredata.csv) au format CSV.  Les colonnes (observations ou ***features*** pour reprendre le jargon machine learning) de chaque ligne de ce fichier CSV correspondent aux caractéristiques d'un exécutable windows (taille de l'executable, nombre de sections, l'entropie, etc). La dernière colonne (`legitimate`) nous informe si l'exécutable est un malware ou non (c'est l'étiquette ou ***label*** pour reprendre le jargon machine learning) \n",
        "> - Comprendre la structure du dataset\n",
        "> - Création de l'ensemble d'entrainement et de test\n",
        "> - Analyse de la corrélation des données\n",
        "> - Extraction des étiquettes\n",
        "> - Nettoyage du dataset\n",
        "> - Feature Scaling\n",
        "\n",
        "> Le code python qui suit donne des exemples d'algorithmes de machine learning (knn, decision tree et SVM).\n",
        "\n",
        "\n",
        "\n"
      ]
    },
    {
      "cell_type": "markdown",
      "metadata": {
        "id": "iiYmZf6wC0YP",
        "colab_type": "text"
      },
      "source": [
        "## Knn Algorithm (Algorithme des plus proches voisins)"
      ]
    },
    {
      "cell_type": "code",
      "metadata": {
        "id": "7vFYoV-GC0YQ",
        "colab_type": "code",
        "colab": {}
      },
      "source": [
        "from sklearn.neighbors import KNeighborsClassifier\n",
        "from sklearn.metrics import accuracy_score, confusion_matrix\n",
        "\n",
        "\n",
        "KNeighborsClassifier(algorithm='auto', leaf_size=30, metric='minkowski',\n",
        "                     metric_params=None, n_jobs=None, n_neighbors=5, p=2,\n",
        "                     weights='uniform')\n",
        "\n",
        "# Entraînement\n",
        "knn.fit(X_train,y_train)\n",
        "\n",
        "# Test\n",
        "y_eval = knn.predict(X_test)\n",
        "\n",
        "# Calcul et affichage du score\n",
        "print(\"Test set score: {:.2f}\".format(metrics.accuracy_score(y_test, y_eval)))\n",
        "print(confusion_matrix(y_test, y_eval))\n",
        "print(\"Test set score: {:.2f}\".format(np.mean(y_eval == y_test)))"
      ],
      "execution_count": 0,
      "outputs": []
    },
    {
      "cell_type": "markdown",
      "metadata": {
        "id": "kqnTGkFU1BhX",
        "colab_type": "text"
      },
      "source": [
        "> Utilisez la validation croisée pour choisir la valeur de l'hyper-paramètre `n_neighbors` "
      ]
    },
    {
      "cell_type": "markdown",
      "metadata": {
        "id": "ZpgUEGMIC0Ya",
        "colab_type": "text"
      },
      "source": [
        "# Decision tree algorithm (Arbre de décision)"
      ]
    },
    {
      "cell_type": "code",
      "metadata": {
        "id": "lkAZ1XzMC0Yb",
        "colab_type": "code",
        "colab": {}
      },
      "source": [
        "from sklearn.tree import DecisionTreeClassifier\n",
        "from sklearn import metrics\n",
        "from sklearn import tree\n",
        "%matplotlib inline\n",
        "\n",
        "dt = DecisionTreeClassifier(random_state=0,max_depth=2)\n",
        "\n",
        "# Entraînement\n",
        "dt.fit(X_train, y_train)\n",
        "\n",
        "# Test\n",
        "y_eval = dt.predict(X_test)\n",
        "\n",
        "# Calcul et affichage du score\n",
        "print(\"Test set score: {:.2f}\".format(metrics.accuracy_score(y_test, y_eval)))\n",
        "\n",
        "print(confusion_matrix(y_test, y_eval))\n",
        "\n",
        "tree.plot_tree(dt.fit(X_train, y_train),fontsize=10)\n"
      ],
      "execution_count": 0,
      "outputs": []
    },
    {
      "cell_type": "markdown",
      "metadata": {
        "id": "yAj9_DtI16tx",
        "colab_type": "text"
      },
      "source": [
        "> Soit la figure ci-dessus qui représente le résultat de l'algorithme d'arbre de décision. Que signifie:\n",
        "\n",
        "> - gini ?\n",
        "> - samples ?\n",
        "> - value ?\n",
        "\n",
        "> Utilisez la validation croisée pour choisir la valeur de l'hyper-paramètre `max_depth`"
      ]
    },
    {
      "cell_type": "markdown",
      "metadata": {
        "id": "I1hX460e7PNo",
        "colab_type": "text"
      },
      "source": [
        "![Texte alternatif…](https://github.com/securitylab-repository/malware_classification/raw/master/tree_based_image.png)"
      ]
    },
    {
      "cell_type": "markdown",
      "metadata": {
        "id": "hrcXAgJ8FGaX",
        "colab_type": "text"
      },
      "source": [
        "## SVM "
      ]
    },
    {
      "cell_type": "code",
      "metadata": {
        "id": "E7sYQ8zWFIuw",
        "colab_type": "code",
        "colab": {}
      },
      "source": [
        "from sklearn.svm import SVC\n",
        "from sklearn.pipeline import Pipeline\n",
        "from sklearn.preprocessing import StandardScaler\n",
        "from sklearn import metrics\n",
        "\n",
        "poly_kernel_svm_clf = Pipeline([       \n",
        "                                (\"scaler\", StandardScaler()),   \n",
        "                                (\"svm_clf\", SVC(kernel=\"poly\", degree=3, coef0=1, C=10))    \n",
        "                                ])\n",
        "\n",
        "# Entraînement\n",
        "poly_kernel_svm_clf.fit(X_train, y_train)\n",
        "\n",
        "# Test\n",
        "y_eval = poly_kernel_svm_clf.predict(X_test)\n",
        "\n",
        "# Calcul et affichage du score\n",
        "print(metrics.accuracy_score(y_test, y_eval))\n"
      ],
      "execution_count": 0,
      "outputs": []
    },
    {
      "cell_type": "markdown",
      "metadata": {
        "id": "BbFtzCSe9BOi",
        "colab_type": "text"
      },
      "source": [
        "> - Donnez la signification des paramètres **kernel**, **degree**, **coef0** et **C** de l'algorithme SVM représenté ici par la classe SVC.\n",
        "> - Utilisez la validation croisée pour choisir la valeur de chacun d'eux."
      ]
    },
    {
      "cell_type": "markdown",
      "metadata": {
        "id": "31qcuMkU-V_X",
        "colab_type": "text"
      },
      "source": [
        "> - Proposez une méthode pour choisir entre les 3 algorithmes\n",
        "> - Optimisez la phase d'apprentissage en choisissant les features les plus pertinents\n",
        "> - Procédez à la phase de test"
      ]
    },
    {
      "cell_type": "markdown",
      "metadata": {
        "id": "4ik0YtM8c2qH",
        "colab_type": "text"
      },
      "source": [
        "## ***Partie 2***\n",
        "\n",
        "> La deuxième partie du projet est de reconstituer le dataset en incluant de nouvelles lignes correspondant à de vrais malwares  windows ([Lien Drive Ecole](https://efrei365net-my.sharepoint.com/:f:/g/personal/boussad_ait_salem_intervenants_efrei_net/EhgtTDejF75AtJh3I5au3_QB3_v91AgmukkRIYtZq7RXMA?e=1tDob0)).\n",
        "\n",
        "> ***Attention: Ne décompresser ces fichiers que dans une VM.***\n",
        "\n",
        "> Pour cela, vous allez démarrer à partir du fichier python [extract_malware.py](https://raw.githubusercontent.com/securitylab-repository/malware_classification/master/extract_features.py). Pour l'insant ce code retourne, sous frome d'un vecteur à une dimension, le nombre de sections et l'entropie moyenne d'un fichier binaire windows. Il est basé sur la librairie [lief](https://github.com/lief-project/LIEF).  \n",
        "\n",
        "\n",
        "\n"
      ]
    },
    {
      "cell_type": "markdown",
      "metadata": {
        "id": "qqCWo7ZsCIFt",
        "colab_type": "text"
      },
      "source": [
        "## ***Partie 3***\n",
        "\n",
        "> Construire une IHM (ex. page Web), qui permettra:\n",
        "\n",
        "> - De soumettre un fichier exécutable pour l'analyse\n",
        "> - D'afficher le résultat de l'analyse\n",
        "\n"
      ]
    },
    {
      "cell_type": "markdown",
      "metadata": {
        "id": "HFNrMxhkCJ58",
        "colab_type": "text"
      },
      "source": [
        "\n",
        "## ***Liens:***\n",
        "- https://www.ritchieng.com/programming-languages/\n",
        "- https://www.ritchieng.com/machine-learning-resources/\n",
        "- https://virusshare.com/torrents.4n6\n",
        "- https://scikit-learn.org/stable/supervised_learning.html"
      ]
    }
  ]
}